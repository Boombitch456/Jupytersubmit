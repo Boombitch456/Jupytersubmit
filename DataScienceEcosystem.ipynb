{
 "cells": [
  {
   "cell_type": "markdown",
   "id": "833abe62",
   "metadata": {},
   "source": [
    "# Data Science Tools and Ecosystem"
   ]
  },
  {
   "cell_type": "markdown",
   "id": "3ec03644",
   "metadata": {},
   "source": [
    "In this notebook, Data Science Tools and Ecosystem are summarized."
   ]
  },
  {
   "cell_type": "markdown",
   "id": "b551ae87",
   "metadata": {},
   "source": [
    "Some of the popular languages that Data Scientists use are:\n",
    "1.Python\n",
    "2.Scala\n",
    "3.Julia\n",
    "4.R language"
   ]
  },
  {
   "cell_type": "markdown",
   "id": "174e6674",
   "metadata": {},
   "source": [
    "Some of the commonly used libraries used by Data Scientists include:\n",
    "1.TensorFlow\n",
    "2.PyTorch\n",
    "3.Matplotlib\n",
    "4.Pandas\n",
    "5.Keras"
   ]
  },
  {
   "cell_type": "markdown",
   "id": "c55d74d1",
   "metadata": {},
   "source": [
    "| Data Science Tools |\n",
    "| -------------| \n",
    "| RStudio |\n",
    "| Apache Spark |\n",
    "| TensorFlow |"
   ]
  },
  {
   "cell_type": "markdown",
   "id": "ea638e38",
   "metadata": {},
   "source": [
    "### Below are a few examples of evaluating arithmetic expressions in Python"
   ]
  },
  {
   "cell_type": "code",
   "execution_count": 8,
   "id": "be676b84",
   "metadata": {},
   "outputs": [
    {
     "name": "stdout",
     "output_type": "stream",
     "text": [
      "3 mins\n"
     ]
    }
   ],
   "source": [
    "# This will convert 200 minutes to hours by diving by 60\n",
    "print(200//60,\"mins\")"
   ]
  },
  {
   "cell_type": "markdown",
   "id": "d628c80e",
   "metadata": {},
   "source": [
    "**Objectives:**\n",
    "-Python\n",
    "-Scala\n",
    "-Julia\n",
    "-R language\n",
    "-Swift"
   ]
  },
  {
   "cell_type": "markdown",
   "id": "9d5507c1",
   "metadata": {},
   "source": [
    "## Author\n",
    "Sarthak Prusty"
   ]
  },
  {
   "cell_type": "code",
   "execution_count": null,
   "id": "47e0aaae",
   "metadata": {},
   "outputs": [],
   "source": []
  }
 ],
 "metadata": {
  "kernelspec": {
   "display_name": "Python 3 (ipykernel)",
   "language": "python",
   "name": "python3"
  },
  "language_info": {
   "codemirror_mode": {
    "name": "ipython",
    "version": 3
   },
   "file_extension": ".py",
   "mimetype": "text/x-python",
   "name": "python",
   "nbconvert_exporter": "python",
   "pygments_lexer": "ipython3",
   "version": "3.11.4"
  }
 },
 "nbformat": 4,
 "nbformat_minor": 5
}
